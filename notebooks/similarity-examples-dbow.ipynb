{
 "cells": [
  {
   "cell_type": "code",
   "execution_count": 1,
   "metadata": {},
   "outputs": [],
   "source": [
    "target_composer_names = ['Wolfgang Amadeus Mozart', 'Bejamin Britten']\n",
    "\n",
    "embeddings_path = '../data/embeddings/composer-embeddings-c2v-dbow-5000-10000.h5'"
   ]
  },
  {
   "cell_type": "code",
   "execution_count": 2,
   "metadata": {},
   "outputs": [
    {
     "name": "stderr",
     "output_type": "stream",
     "text": [
      "/Users/sam/.pyenv/versions/3.6.6/lib/python3.6/importlib/_bootstrap.py:219: RuntimeWarning: numpy.dtype size changed, may indicate binary incompatibility. Expected 96, got 88\n",
      "  return f(*args, **kwds)\n",
      "/Users/sam/.pyenv/versions/3.6.6/lib/python3.6/importlib/_bootstrap.py:219: RuntimeWarning: numpy.dtype size changed, may indicate binary incompatibility. Expected 96, got 88\n",
      "  return f(*args, **kwds)\n"
     ]
    }
   ],
   "source": [
    "from difflib import SequenceMatcher\n",
    "import glob\n",
    "import re\n",
    "\n",
    "import h5py\n",
    "import numpy as np\n",
    "import pandas as pd\n",
    "import scipy\n",
    "from scipy.spatial import distance"
   ]
  },
  {
   "cell_type": "code",
   "execution_count": 3,
   "metadata": {},
   "outputs": [],
   "source": [
    "all_composers = [(i, *c) for i, c in enumerate(pd.read_csv('../data/composers.csv', sep='|').values)]"
   ]
  },
  {
   "cell_type": "code",
   "execution_count": 4,
   "metadata": {},
   "outputs": [
    {
     "name": "stdout",
     "output_type": "stream",
     "text": [
      "Assuming Wolfgang Amadeus Mozart: born 1756; died 1791; composer_id: 2489\n",
      "Assuming Benjamin Britten: born 1913; died 1976; composer_id: 774\n"
     ]
    }
   ],
   "source": [
    "def similar(a, b):\n",
    "    return SequenceMatcher(None, a, b).ratio()\n",
    "\n",
    "def name_to_composer_id(name):\n",
    "    composer = max(all_composers, key=lambda c: similar(c[1], name))\n",
    "    composer_id = composer[0]\n",
    "    print('Assuming {}: born {}; died {}; composer_id: {}'.format(composer[1], composer[2], composer[3], composer[0]))\n",
    "    return composer_id\n",
    "\n",
    "target_ids = [name_to_composer_id(name) for name in target_composer_names]"
   ]
  },
  {
   "cell_type": "code",
   "execution_count": 5,
   "metadata": {},
   "outputs": [],
   "source": [
    "def path_to_embedding(path):\n",
    "    with h5py.File(path, 'r') as f:\n",
    "        return f.get('doc_embeddings').value"
   ]
  },
  {
   "cell_type": "code",
   "execution_count": 6,
   "metadata": {},
   "outputs": [],
   "source": [
    "embeddings = path_to_embedding(embeddings_path)"
   ]
  },
  {
   "cell_type": "code",
   "execution_count": 7,
   "metadata": {},
   "outputs": [],
   "source": [
    "distances = distance.cdist(embeddings, embeddings, metric='cosine')\n",
    "closest = distances.argsort()"
   ]
  },
  {
   "cell_type": "code",
   "execution_count": 8,
   "metadata": {},
   "outputs": [
    {
     "name": "stdout",
     "output_type": "stream",
     "text": [
      "Most similar to Wolfgang Amadeus Mozart:\n",
      "('Ludwig van Beethoven', 'https://en.wikipedia.org/wiki/Ludwig_van_Beethoven')\n",
      "('Joseph Haydn', 'https://en.wikipedia.org/wiki/Joseph_Haydn')\n",
      "('Leopold Mozart', 'https://en.wikipedia.org/wiki/Leopold_Mozart')\n",
      "('Antonio Salieri', 'https://en.wikipedia.org/wiki/Antonio_Salieri')\n",
      "('Christoph Willibald Gluck', 'https://en.wikipedia.org/wiki/Christoph_Willibald_Gluck')\n",
      "Most similar to Bejamin Britten:\n",
      "('Michael Tippett', 'https://en.wikipedia.org/wiki/Michael_Tippett')\n",
      "('William Walton', 'https://en.wikipedia.org/wiki/William_Walton')\n",
      "('Ralph Vaughan Williams', 'https://en.wikipedia.org/wiki/Ralph_Vaughan_Williams')\n",
      "('Gustav Holst', 'https://en.wikipedia.org/wiki/Gustav_Holst')\n",
      "('Arthur Bliss', 'https://en.wikipedia.org/wiki/Arthur_Bliss')\n"
     ]
    }
   ],
   "source": [
    "for t_id, t_name in zip(target_ids, target_composer_names):\n",
    "    print('Most similar to {}:'.format(t_name))\n",
    "    for c_id in closest[t_id, 1:6]:\n",
    "        print((all_composers[c_id][1], all_composers[c_id][-1]))"
   ]
  }
 ],
 "metadata": {
  "kernelspec": {
   "display_name": "Python 3",
   "language": "python",
   "name": "python3"
  },
  "language_info": {
   "codemirror_mode": {
    "name": "ipython",
    "version": 3
   },
   "file_extension": ".py",
   "mimetype": "text/x-python",
   "name": "python",
   "nbconvert_exporter": "python",
   "pygments_lexer": "ipython3",
   "version": "3.6.6"
  }
 },
 "nbformat": 4,
 "nbformat_minor": 2
}
