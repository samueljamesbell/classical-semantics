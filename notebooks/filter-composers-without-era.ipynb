{
 "cells": [
  {
   "cell_type": "code",
   "execution_count": 1,
   "metadata": {},
   "outputs": [
    {
     "name": "stderr",
     "output_type": "stream",
     "text": [
      "/Users/sam/.pyenv/versions/3.6.6/lib/python3.6/importlib/_bootstrap.py:219: RuntimeWarning: numpy.dtype size changed, may indicate binary incompatibility. Expected 96, got 88\n",
      "  return f(*args, **kwds)\n",
      "/Users/sam/.pyenv/versions/3.6.6/lib/python3.6/importlib/_bootstrap.py:219: RuntimeWarning: numpy.dtype size changed, may indicate binary incompatibility. Expected 96, got 88\n",
      "  return f(*args, **kwds)\n"
     ]
    }
   ],
   "source": [
    "import numpy as np\n",
    "import pandas as pd"
   ]
  },
  {
   "cell_type": "code",
   "execution_count": 2,
   "metadata": {},
   "outputs": [],
   "source": [
    "composers = pd.read_csv('../data/composers-annotated.tsv', sep=\"\\t\")\n",
    "embeddings = pd.read_csv('../data/embeddings/composer-embeddings-c2v-dm-5000-10000.tsv', sep='\\t', \n",
    "                                  names=list(map(str, list(range(300)))))"
   ]
  },
  {
   "cell_type": "code",
   "execution_count": 3,
   "metadata": {},
   "outputs": [],
   "source": [
    "# Filter embeddings to only include composers with a known era\n",
    "\n",
    "embeddings_with_era = []\n",
    "\n",
    "for (_, c), (_, e) in zip(composers.iterrows(), embeddings.iterrows()):\n",
    "    if c['era'] != 'Unknown':\n",
    "        embeddings_with_era.append(e.values)\n",
    "\n",
    "pd.DataFrame(np.array(embeddings_with_era)).to_csv('../data/embeddings/composer-embeddings-c2v-dm-5000-10000-exclude-Unknown-era.tsv',\n",
    "                                                   index=False,\n",
    "                                                   header=False,\n",
    "                                                   sep='\\t')"
   ]
  },
  {
   "cell_type": "code",
   "execution_count": 4,
   "metadata": {},
   "outputs": [],
   "source": [
    "# Filter annotations the same way\n",
    "\n",
    "composers[composers['era'] != 'Unknown'].to_csv('../data/composers-annotated-exclude-Unknown-era.tsv',\n",
    "                                                index=False,\n",
    "                                                sep='\\t')"
   ]
  }
 ],
 "metadata": {
  "kernelspec": {
   "display_name": "Python 3",
   "language": "python",
   "name": "python3"
  },
  "language_info": {
   "codemirror_mode": {
    "name": "ipython",
    "version": 3
   },
   "file_extension": ".py",
   "mimetype": "text/x-python",
   "name": "python",
   "nbconvert_exporter": "python",
   "pygments_lexer": "ipython3",
   "version": "3.6.6"
  }
 },
 "nbformat": 4,
 "nbformat_minor": 2
}
