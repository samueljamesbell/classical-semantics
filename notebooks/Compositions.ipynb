{
 "cells": [
  {
   "cell_type": "code",
   "execution_count": 1,
   "metadata": {
    "collapsed": true
   },
   "outputs": [],
   "source": [
    "import requests\n",
    "import re\n",
    "import csv\n",
    "\n",
    "from lxml import html"
   ]
  },
  {
   "cell_type": "code",
   "execution_count": 2,
   "metadata": {
    "collapsed": false
   },
   "outputs": [],
   "source": [
    "# Fetch page of compositions\n",
    "base_url = 'https://en.wikipedia.org/'\n",
    "name = 'Johann Sebastian Bach'"
   ]
  },
  {
   "cell_type": "code",
   "execution_count": 26,
   "metadata": {
    "collapsed": false
   },
   "outputs": [],
   "source": [
    "default_pattern = r'[[Op.|Opus|No.] (\\d{1-4}): (.*)|(.*)[Op.|Opus] (\\d{1-4})]'\n",
    "\n",
    "# Change default_patterns to be an ordered list\n",
    "\n",
    "patterns = {\n",
    "    'Johann Sebastian Bach': r'BWV (\\d{1,4}) – (.*)',\n",
    "    'Wolfgang Amadeus Mozart': r'(.*), K. (\\d{1,4}) \\((\\d{4})\\)'\n",
    "}"
   ]
  },
  {
   "cell_type": "code",
   "execution_count": 30,
   "metadata": {
    "collapsed": false
   },
   "outputs": [],
   "source": [
    "# Parse and extract items\n",
    "def parse_text(item, composer_name):\n",
    "    pattern = patterns.get(composer_name, default_pattern)\n",
    "    match = re.search(pattern, item.text_content())\n",
    "    if match:\n",
    "        return (match.group(1), match.group(2))\n",
    "\n",
    "def extract_url(item):\n",
    "    hrefs = item.xpath('a[@href]')\n",
    "    if hrefs:\n",
    "        return hrefs[0].attrib['href']\n",
    "\n",
    "def process(item, composer_name):\n",
    "    details = parse_text(item, composer_name)\n",
    "    url = extract_url(item)\n",
    "    if details:\n",
    "        return {'number': details[0], 'name': details[1], 'url': url, 'composer_name': composer_name}\n",
    "    \n",
    "def get_compositions_for_composer(composer_name):\n",
    "    formatted_name = composer_name.replace(' ', '_')\n",
    "    url = base_url + 'wiki/List_of_compositions_by_' + formatted_name\n",
    "\n",
    "    response = requests.get(url)\n",
    "    if response.status_code != 200:\n",
    "        print('Failed to fetch compositions for %s' % composer_name)\n",
    "        return\n",
    "    \n",
    "    print('Successfully fetched compositions page for %s' % composer_name)\n",
    "\n",
    "    doc = response.text\n",
    "\n",
    "    parsed = html.fromstring(doc)\n",
    "    parsed.make_links_absolute(base_url)\n",
    "\n",
    "    items = parsed.xpath(\"//div[@class='mw-content-ltr']//li\")\n",
    "    items_without_lists = (item for item in items\n",
    "                           if 'List of' not in item.text_content()\n",
    "                           and 'toc' not in item.attrib.get('class', ''))\n",
    "    \n",
    "    data = (process(item, composer_name) for item in items_without_lists)\n",
    "    return [d for d in data if d is not None]"
   ]
  },
  {
   "cell_type": "code",
   "execution_count": 28,
   "metadata": {
    "collapsed": false
   },
   "outputs": [],
   "source": [
    "def get_composer_names_from_file(filepath='../data/composers.csv'):\n",
    "    with open(filepath, 'r') as f:\n",
    "        reader = csv.DictReader(f)\n",
    "        composer_names = [row['name'] for row in reader]\n",
    "        \n",
    "    return composer_names"
   ]
  },
  {
   "cell_type": "code",
   "execution_count": 31,
   "metadata": {
    "collapsed": false,
    "scrolled": true
   },
   "outputs": [
    {
     "name": "stdout",
     "output_type": "stream",
     "text": [
      "Failed to fetch compositions for Blaž Arnič\n",
      "Failed to fetch compositions for Ralf Arnie\n",
      "Failed to fetch compositions for Ernst Arnold\n",
      "Successfully fetched compositions page for Malcolm Arnold\n",
      "Failed to fetch compositions for Samuel Arnold\n",
      "Failed to fetch compositions for Yuri Karlovich Arnold\n",
      "Failed to fetch compositions for Robert Sterling Arnold\n",
      "Successfully fetched compositions page for Juan Crisóstomo Arriaga\n",
      "Failed to fetch compositions for Emilio Arrieta\n",
      "Failed to fetch compositions for Claude Arrieu\n"
     ]
    }
   ],
   "source": [
    "composer_names = get_composer_names_from_file()\n",
    "for composer_name in list(composer_names)[230:240]:\n",
    "    compositions = get_compositions_for_composer(composer_name)\n",
    "    if compositions:\n",
    "        print(composer_name + ': ' + len(compositions))"
   ]
  },
  {
   "cell_type": "code",
   "execution_count": null,
   "metadata": {
    "collapsed": true
   },
   "outputs": [],
   "source": []
  }
 ],
 "metadata": {
  "kernelspec": {
   "display_name": "Python 3",
   "language": "python",
   "name": "python3"
  },
  "language_info": {
   "codemirror_mode": {
    "name": "ipython",
    "version": 3
   },
   "file_extension": ".py",
   "mimetype": "text/x-python",
   "name": "python",
   "nbconvert_exporter": "python",
   "pygments_lexer": "ipython3",
   "version": "3.4.2"
  }
 },
 "nbformat": 4,
 "nbformat_minor": 0
}
