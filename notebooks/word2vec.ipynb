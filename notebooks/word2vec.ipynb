{
 "cells": [
  {
   "cell_type": "code",
   "execution_count": null,
   "metadata": {
    "collapsed": true
   },
   "outputs": [],
   "source": [
    "import word2vec\n",
    "import csv"
   ]
  },
  {
   "cell_type": "code",
   "execution_count": null,
   "metadata": {
    "collapsed": false
   },
   "outputs": [],
   "source": [
    "csv.register_dialect('custom', delimiter='|')\n",
    "\n",
    "def get_composer_names_from_file(filepath='../data/composers_freebase.csv'):\n",
    "    with open(filepath, 'r') as f:\n",
    "        reader = csv.DictReader(f, dialect='custom')\n",
    "        composer_names = [row['composer_name'] for row in reader]\n",
    "        \n",
    "    return composer_names\n",
    "\n",
    "def write_composer_names_to_file(composer_names, filepath='../data/composer_names.txt'):\n",
    "    with open(filepath, 'w') as f:\n",
    "        for composer_name in composer_names:\n",
    "            f.write('%s\\n' % composer_name)\n",
    "    "
   ]
  },
  {
   "cell_type": "code",
   "execution_count": null,
   "metadata": {
    "collapsed": false
   },
   "outputs": [],
   "source": [
    "composer_names = get_composer_names_from_file()\n",
    "write_composer_names_to_file(composer_names)"
   ]
  },
  {
   "cell_type": "code",
   "execution_count": null,
   "metadata": {
    "collapsed": false
   },
   "outputs": [],
   "source": [
    "word2vec.word2vec('/Users/sam/Projects/music/text8', '/Users/sam/Downloads/text8.bin', \n",
    "                  verbose=True,\n",
    "                  read_vocab='../data/composer_names.txt')\n"
   ]
  },
  {
   "cell_type": "code",
   "execution_count": null,
   "metadata": {
    "collapsed": true
   },
   "outputs": [],
   "source": []
  }
 ],
 "metadata": {
  "kernelspec": {
   "display_name": "Python 3",
   "language": "python",
   "name": "python3"
  },
  "language_info": {
   "codemirror_mode": {
    "name": "ipython",
    "version": 3
   },
   "file_extension": ".py",
   "mimetype": "text/x-python",
   "name": "python",
   "nbconvert_exporter": "python",
   "pygments_lexer": "ipython3",
   "version": "3.4.2"
  }
 },
 "nbformat": 4,
 "nbformat_minor": 0
}
