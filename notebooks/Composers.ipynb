{
 "cells": [
  {
   "cell_type": "code",
   "execution_count": 56,
   "metadata": {
    "collapsed": true
   },
   "outputs": [],
   "source": [
    "import requests\n",
    "import re\n",
    "\n",
    "import csv\n",
    "from lxml import html, etree"
   ]
  },
  {
   "cell_type": "code",
   "execution_count": 57,
   "metadata": {
    "collapsed": false
   },
   "outputs": [
    {
     "ename": "SyntaxError",
     "evalue": "EOL while scanning string literal (<ipython-input-57-cb2574e08f57>, line 2)",
     "output_type": "error",
     "traceback": [
      "\u001b[0;36m  File \u001b[0;32m\"<ipython-input-57-cb2574e08f57>\"\u001b[0;36m, line \u001b[0;32m2\u001b[0m\n\u001b[0;31m    base_url = 'https://en.wikipedia.org/\u001b[0m\n\u001b[0m                                         ^\u001b[0m\n\u001b[0;31mSyntaxError\u001b[0m\u001b[0;31m:\u001b[0m EOL while scanning string literal\n"
     ]
    }
   ],
   "source": [
    "# Get data set for scraping\n",
    "base_url = 'https://en.wikipedia.org/\n",
    "url = base_url + 'wiki/List_of_composers_by_name'\n",
    "response = requests.get(base_url)\n",
    "assert(response.status_code == 200)\n",
    "doc = response.text"
   ]
  },
  {
   "cell_type": "code",
   "execution_count": 58,
   "metadata": {
    "collapsed": false
   },
   "outputs": [],
   "source": [
    "# Parse and extract data\n",
    "parsed = html.fromstring(doc)\n",
    "parsed.make_links_absolute(base_url)\n",
    "\n",
    "items = parsed.xpath('//li')\n",
    "\n",
    "pattern = re.compile(r'([\\w\\s]*).*(\\d{4}).*(\\d{4})')\n",
    "\n",
    "def parse_text(item):\n",
    "    match = re.search(pattern, item.text_content())\n",
    "    if match:\n",
    "        return (match.group(1).strip(), match.group(2), match.group(3))\n",
    "\n",
    "def extract_url(item):\n",
    "    hrefs = item.xpath('a[@href]')\n",
    "    if hrefs:\n",
    "        return hrefs[0].attrib['href']\n",
    "\n",
    "def process(item):\n",
    "    composer_details = parse_text(item)\n",
    "    href = extract_url(item)\n",
    "    if composer_details and href:\n",
    "        href = extract_url(item)\n",
    "        return {'name': composer_details[0],\n",
    "                'born': composer_details[1],\n",
    "                'died': composer_details[2],\n",
    "                'url': href}\n",
    "    \n",
    "data = (process(item) for item in items)\n",
    "data = (d for d in data if d is not None)"
   ]
  },
  {
   "cell_type": "code",
   "execution_count": 61,
   "metadata": {
    "collapsed": false
   },
   "outputs": [
    {
     "name": "stdout",
     "output_type": "stream",
     "text": [
      "Done!\n"
     ]
    }
   ],
   "source": [
    "# Write our dataset to CSV\n",
    "fieldnames = ['name', 'born', 'died', 'url']\n",
    "output_file = '../data/composers.csv'\n",
    "\n",
    "with open(output_file, 'w') as f:\n",
    "    writer = csv.DictWriter(f, fieldnames=fieldnames)\n",
    "\n",
    "    writer.writeheader()\n",
    "    \n",
    "    for row in data:\n",
    "        writer.writerow(row)\n",
    "        \n",
    "print('Done!')"
   ]
  }
 ],
 "metadata": {
  "kernelspec": {
   "display_name": "Python 3",
   "language": "python",
   "name": "python3"
  },
  "language_info": {
   "codemirror_mode": {
    "name": "ipython",
    "version": 3
   },
   "file_extension": ".py",
   "mimetype": "text/x-python",
   "name": "python",
   "nbconvert_exporter": "python",
   "pygments_lexer": "ipython3",
   "version": "3.4.2"
  }
 },
 "nbformat": 4,
 "nbformat_minor": 0
}
