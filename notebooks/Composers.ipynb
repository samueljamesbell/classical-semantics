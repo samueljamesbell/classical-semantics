{
 "cells": [
  {
   "cell_type": "code",
   "execution_count": 1,
   "metadata": {
    "collapsed": true
   },
   "outputs": [],
   "source": [
    "import requests\n",
    "import re\n",
    "\n",
    "\n",
    "\n",
    "from lxml import html"
   ]
  },
  {
   "cell_type": "code",
   "execution_count": 2,
   "metadata": {
    "collapsed": false
   },
   "outputs": [],
   "source": [
    "# Get data set for scraping\n",
    "base_url = 'https://en.wikipedia.org/wiki/List_of_composers_by_name'\n",
    "response = requests.get(base_url)\n",
    "assert(response.status_code == 200)\n",
    "doc = response.text"
   ]
  },
  {
   "cell_type": "code",
   "execution_count": 3,
   "metadata": {
    "collapsed": false
   },
   "outputs": [
    {
     "name": "stdout",
     "output_type": "stream",
     "text": [
      "None\n"
     ]
    }
   ],
   "source": [
    "# Parse and extract data\n",
    "parsed = html.fromstring(doc)\n",
    "items = parsed.xpath('//li')\n",
    "\n",
    "pattern = re.compile(r'([\\w\\s]*).*(\\d{4}).*(\\d{4})')\n",
    "\n",
    "def parse_text(text):\n",
    "    match = re.search(pattern, text)\n",
    "    if match:\n",
    "        return (match.group(1).strip(), match.group(2), match.group(3))\n",
    "\n",
    "def extract_url(a):\n",
    "    print(etree.tostring(a))\n",
    "    return first(a.iterlinks)\n",
    "\n",
    "def process(item):\n",
    "    composer_details = parse_text(item.text_content())\n",
    "    if composer_details:\n",
    "        href = item.xpath('//a[@href]')[0]\n",
    "        return {'name': composer_details[0],\n",
    "                'born': composer_details[1],\n",
    "                'died': composer_details[2],\n",
    "                'url': href}\n",
    "\n",
    "data = (process(item) for item in items)\n",
    "data = (d for d in data if data is not None)\n",
    "\n",
    "print(next(data))"
   ]
  }
 ],
 "metadata": {
  "kernelspec": {
   "display_name": "Python 3",
   "language": "python",
   "name": "python3"
  },
  "language_info": {
   "codemirror_mode": {
    "name": "ipython",
    "version": 3
   },
   "file_extension": ".py",
   "mimetype": "text/x-python",
   "name": "python",
   "nbconvert_exporter": "python",
   "pygments_lexer": "ipython3",
   "version": "3.4.2"
  }
 },
 "nbformat": 4,
 "nbformat_minor": 0
}
