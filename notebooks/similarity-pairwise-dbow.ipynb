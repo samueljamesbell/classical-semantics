{
 "cells": [
  {
   "cell_type": "code",
   "execution_count": 1,
   "metadata": {},
   "outputs": [],
   "source": [
    "names = [\n",
    "    'Wolfgang Amadeus Mozart',\n",
    "    'Joseph Haydn',\n",
    "    'Maurice Ravel',\n",
    "    'Claude Debussy',\n",
    "    'Thomas Tallis',\n",
    "    'William Byrd',\n",
    "]\n",
    "\n",
    "name_pairs = [\n",
    "    ('Wolfgang Amadeus Mozart', 'Joseph Haydn'),\n",
    "    ('Maurice Ravel', 'Claude Debussy'),\n",
    "    ('Thomas Tallis', 'William Byrd'),\n",
    "]\n",
    "\n",
    "embeddings_path = '../data/embeddings/composer-embeddings-c2v-dbow-*.h5'"
   ]
  },
  {
   "cell_type": "code",
   "execution_count": 2,
   "metadata": {},
   "outputs": [
    {
     "name": "stderr",
     "output_type": "stream",
     "text": [
      "/Users/sam/.pyenv/versions/3.6.6/lib/python3.6/importlib/_bootstrap.py:219: RuntimeWarning: numpy.dtype size changed, may indicate binary incompatibility. Expected 96, got 88\n",
      "  return f(*args, **kwds)\n",
      "/Users/sam/.pyenv/versions/3.6.6/lib/python3.6/importlib/_bootstrap.py:219: RuntimeWarning: numpy.dtype size changed, may indicate binary incompatibility. Expected 96, got 88\n",
      "  return f(*args, **kwds)\n"
     ]
    }
   ],
   "source": [
    "from difflib import SequenceMatcher\n",
    "import glob\n",
    "import re\n",
    "\n",
    "import h5py\n",
    "import numpy as np\n",
    "import pandas as pd\n",
    "from scipy.spatial import distance"
   ]
  },
  {
   "cell_type": "code",
   "execution_count": 3,
   "metadata": {},
   "outputs": [],
   "source": [
    "all_composers = [(i, *c) for i, c in enumerate(pd.read_csv('../data/composers.csv', sep='|').values)]"
   ]
  },
  {
   "cell_type": "code",
   "execution_count": null,
   "metadata": {},
   "outputs": [
    {
     "name": "stdout",
     "output_type": "stream",
     "text": [
      "Assuming Wolfgang Amadeus Mozart: born 1756; died 1791; composer_id: 2489\n",
      "Assuming Joseph Haydn: born 1732; died 1809; composer_id: 1747\n",
      "Assuming Maurice Ravel: born 1875; died 1937; composer_id: 2784\n"
     ]
    }
   ],
   "source": [
    "def similar(a, b):\n",
    "    return SequenceMatcher(None, a, b).ratio()\n",
    "\n",
    "def name_to_composer_id(name):\n",
    "    composer = max(all_composers, key=lambda c: similar(c[1], name))\n",
    "    composer_id = composer[0]\n",
    "    print('Assuming {}: born {}; died {}; composer_id: {}'.format(composer[1], composer[2], composer[3], composer[0]))\n",
    "    return composer_id\n",
    "\n",
    "id_pairs = [(name_to_composer_id(a), name_to_composer_id(b)) for a, b in name_pairs]"
   ]
  },
  {
   "cell_type": "code",
   "execution_count": null,
   "metadata": {},
   "outputs": [],
   "source": [
    "def path_to_epoch(path):\n",
    "    return int(re.search(r'\\-(\\d*)\\-\\d*', path).groups()[0])\n",
    "\n",
    "\n",
    "def path_to_embedding(path):\n",
    "    with h5py.File(path, 'r') as f:\n",
    "        return f.get('doc_embeddings').value"
   ]
  },
  {
   "cell_type": "code",
   "execution_count": null,
   "metadata": {},
   "outputs": [],
   "source": [
    "embeddings_by_epoch = {path_to_epoch(path): path_to_embedding(path) for path in glob.glob(embeddings_path)}"
   ]
  },
  {
   "cell_type": "code",
   "execution_count": null,
   "metadata": {},
   "outputs": [],
   "source": [
    "distances_per_pair = []\n",
    "\n",
    "for id_a, id_b in id_pairs:\n",
    "    distances_by_epoch = []\n",
    "    for epoch, embeddings in embeddings_by_epoch.items():\n",
    "        d = distance.cosine(embeddings[id_a], embeddings[id_b])\n",
    "        distances_by_epoch.append((epoch, d))\n",
    "    distances_per_pair.append(sorted(distances_by_epoch, key=lambda tup: tup[0]))"
   ]
  },
  {
   "cell_type": "code",
   "execution_count": null,
   "metadata": {},
   "outputs": [],
   "source": [
    "from bokeh.plotting import figure, show\n",
    "from bokeh.io import output_notebook\n",
    "from bokeh.palettes import Plasma4\n",
    "\n",
    "output_notebook()\n",
    "\n",
    "x_axis = [epoch for epoch, _ in distances_per_pair[0]]\n",
    "\n",
    "plot = figure(title='Similarity by epoch',\n",
    "              x_axis_label='Epochs',\n",
    "              y_axis_label='Similarity')\n",
    "\n",
    "for distances_by_epoch, (name_a, name_b), color in zip(distances_per_pair, name_pairs, Plasma4):\n",
    "    distances = [d for _, d in distances_by_epoch]\n",
    "    plot.line(x_axis, 1 - np.array(distances), legend='{} & {}'.format(name_a, name_b), line_width=2, line_color=color)\n",
    "\n",
    "plot.plot_height = 500\n",
    "plot.plot_width = 800\n",
    "plot.legend.location = 'bottom_right'\n",
    "\n",
    "show(plot)"
   ]
  },
  {
   "cell_type": "code",
   "execution_count": null,
   "metadata": {},
   "outputs": [],
   "source": [
    "import itertools\n",
    "\n",
    "mozart_pairs = [(name_to_composer_id(names[0]), name_to_composer_id(n)) for n in names[1:]]\n",
    "\n",
    "distances_per_pair = []\n",
    "\n",
    "for id_a, id_b in mozart_pairs:\n",
    "    distances_by_epoch = []\n",
    "    for epoch, embeddings in embeddings_by_epoch.items():\n",
    "        d = distance.cosine(embeddings[id_a], embeddings[id_b])\n",
    "        distances_by_epoch.append((epoch, d))\n",
    "    distances_per_pair.append(sorted(distances_by_epoch, key=lambda tup: tup[0]))"
   ]
  },
  {
   "cell_type": "code",
   "execution_count": null,
   "metadata": {},
   "outputs": [],
   "source": [
    "from bokeh.plotting import figure, show\n",
    "from bokeh.io import output_notebook\n",
    "from bokeh.palettes import Plasma6\n",
    "\n",
    "output_notebook()\n",
    "\n",
    "x_axis = [epoch for epoch, _ in distances_per_pair[0]]\n",
    "\n",
    "plot = figure(title='Similarity to Mozart by epoch',\n",
    "              x_axis_label='Epochs',\n",
    "              y_axis_label='Similarity')\n",
    "\n",
    "for distances_by_epoch, name, color in zip(distances_per_pair, names[1:], Plasma6):\n",
    "    distances = [d for _, d in distances_by_epoch]\n",
    "    plot.line(x_axis, 1 - np.array(distances), legend=name, line_width=2, line_color=color)\n",
    "\n",
    "plot.plot_height = 500\n",
    "plot.plot_width = 800\n",
    "plot.legend.location = 'top_left'\n",
    "\n",
    "show(plot)"
   ]
  }
 ],
 "metadata": {
  "kernelspec": {
   "display_name": "Python 3",
   "language": "python",
   "name": "python3"
  },
  "language_info": {
   "codemirror_mode": {
    "name": "ipython",
    "version": 3
   },
   "file_extension": ".py",
   "mimetype": "text/x-python",
   "name": "python",
   "nbconvert_exporter": "python",
   "pygments_lexer": "ipython3",
   "version": "3.6.6"
  }
 },
 "nbformat": 4,
 "nbformat_minor": 2
}
