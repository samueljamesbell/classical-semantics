{
 "cells": [
  {
   "cell_type": "markdown",
   "metadata": {},
   "source": [
    "# Interactive notebook for composer recommendations"
   ]
  },
  {
   "cell_type": "markdown",
   "metadata": {},
   "source": [
    "## Instructions\n",
    "\n",
    "Replace 'Benjamin Britten' as composer_name below, with a composer of your choice, and click Cell > Run All.\n",
    "\n",
    "Scroll down to the final cell in the notebook, which will contain some semantically-informed recommendations."
   ]
  },
  {
   "cell_type": "code",
   "execution_count": 1,
   "metadata": {},
   "outputs": [],
   "source": [
    "composer_name = 'Benjamin Britten'"
   ]
  },
  {
   "cell_type": "code",
   "execution_count": 2,
   "metadata": {},
   "outputs": [],
   "source": [
    "embeddings_path = '../data/embeddings/composer-embeddings-c2v-dm-5000-10000.h5'"
   ]
  },
  {
   "cell_type": "code",
   "execution_count": 3,
   "metadata": {},
   "outputs": [
    {
     "name": "stderr",
     "output_type": "stream",
     "text": [
      "/Users/sam/.pyenv/versions/3.6.6/lib/python3.6/importlib/_bootstrap.py:219: RuntimeWarning: numpy.dtype size changed, may indicate binary incompatibility. Expected 96, got 88\n",
      "  return f(*args, **kwds)\n"
     ]
    }
   ],
   "source": [
    "from difflib import SequenceMatcher\n",
    "import glob\n",
    "import re\n",
    "\n",
    "import h5py\n",
    "import numpy as np\n",
    "import pandas as pd\n",
    "from scipy.spatial import distance"
   ]
  },
  {
   "cell_type": "code",
   "execution_count": 4,
   "metadata": {},
   "outputs": [],
   "source": [
    "all_composers = [(i, *c) for i, c in enumerate(pd.read_csv('../data/composers.csv', sep='|').values)]"
   ]
  },
  {
   "cell_type": "code",
   "execution_count": 5,
   "metadata": {},
   "outputs": [],
   "source": [
    "def similar(a, b):\n",
    "    return SequenceMatcher(None, a, b).ratio()\n",
    "\n",
    "def name_to_composer_id(name):\n",
    "    composer = max(all_composers, key=lambda c: similar(c[1], name))\n",
    "    composer_id = composer[0]\n",
    "    print('You specified: {}'.format(name))\n",
    "    print('Assuming you meant {}: born {}; died {}; {}'.format(composer[1], composer[2], composer[3], composer[-1]))\n",
    "    return composer_id"
   ]
  },
  {
   "cell_type": "code",
   "execution_count": 6,
   "metadata": {},
   "outputs": [],
   "source": [
    "def path_to_embedding(path):\n",
    "    with h5py.File(path, 'r') as f:\n",
    "        return f.get('doc_embeddings').value"
   ]
  },
  {
   "cell_type": "code",
   "execution_count": 7,
   "metadata": {},
   "outputs": [],
   "source": [
    "embeddings = path_to_embedding(embeddings_path)"
   ]
  },
  {
   "cell_type": "code",
   "execution_count": 8,
   "metadata": {},
   "outputs": [],
   "source": [
    "def self_similarity(embeddings):\n",
    "    return distance.cdist(embeddings, embeddings, metric='cosine')\n",
    "\n",
    "distances = self_similarity(embeddings)\n",
    "closest = distances.argsort()"
   ]
  },
  {
   "cell_type": "code",
   "execution_count": 9,
   "metadata": {},
   "outputs": [
    {
     "name": "stdout",
     "output_type": "stream",
     "text": [
      "You specified: Benjamin Britten\n",
      "Assuming you meant Benjamin Britten: born 1913; died 1976; https://en.wikipedia.org/wiki/Benjamin_Britten\n",
      "You might like the following:\n",
      "Arnold Bax: https://en.wikipedia.org/wiki/Arnold_Bax\n",
      "Ralph Vaughan Williams: https://en.wikipedia.org/wiki/Ralph_Vaughan_Williams\n",
      "William Walton: https://en.wikipedia.org/wiki/William_Walton\n",
      "Gustav Holst: https://en.wikipedia.org/wiki/Gustav_Holst\n",
      "Edward Elgar: https://en.wikipedia.org/wiki/Edward_Elgar\n"
     ]
    }
   ],
   "source": [
    "target_id = name_to_composer_id(composer_name)\n",
    "\n",
    "print('You might like the following:')\n",
    "\n",
    "for c_id in closest[target_id, 1:6]:\n",
    "    composer = all_composers[c_id]\n",
    "    \n",
    "    _, name, *_, url = composer\n",
    "    \n",
    "    print('{}: {}'.format(name, url))"
   ]
  }
 ],
 "metadata": {
  "kernelspec": {
   "display_name": "Python 3",
   "language": "python",
   "name": "python3"
  },
  "language_info": {
   "codemirror_mode": {
    "name": "ipython",
    "version": 3
   },
   "file_extension": ".py",
   "mimetype": "text/x-python",
   "name": "python",
   "nbconvert_exporter": "python",
   "pygments_lexer": "ipython3",
   "version": "3.6.6"
  }
 },
 "nbformat": 4,
 "nbformat_minor": 2
}
